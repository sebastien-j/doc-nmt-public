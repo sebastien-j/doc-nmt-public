{
 "cells": [
  {
   "cell_type": "code",
   "execution_count": 23,
   "metadata": {
    "collapsed": false
   },
   "outputs": [],
   "source": [
    "import theano\n",
    "from theano import tensor\n",
    "\n",
    "import numpy\n",
    "import cPickle as pkl\n",
    "\n",
    "import matplotlib.pylab as plot\n",
    "from matplotlib.cm import gray"
   ]
  },
  {
   "cell_type": "code",
   "execution_count": 24,
   "metadata": {
    "collapsed": true
   },
   "outputs": [],
   "source": [
    "import nmt"
   ]
  },
  {
   "cell_type": "code",
   "execution_count": 25,
   "metadata": {
    "collapsed": true
   },
   "outputs": [],
   "source": [
    "model = \"/home/sebastien/Documents/Git/doc-nmt/doc2/model.doc2.npz\""
   ]
  },
  {
   "cell_type": "code",
   "execution_count": 26,
   "metadata": {
    "collapsed": true
   },
   "outputs": [],
   "source": [
    "# load model model_options\n",
    "with open('%s.pkl' % model, 'rb') as f:\n",
    "    options = pkl.load(f)\n",
    "\n",
    "# load source dictionary and invert\n",
    "with open(options['dictionaries'][0], 'rb') as f:\n",
    "    word_dict = pkl.load(f)\n",
    "word_idict = dict()\n",
    "for kk, vv in word_dict.iteritems():\n",
    "    word_idict[vv] = kk\n",
    "word_idict[0] = '<eos>'\n",
    "word_idict[1] = 'UNK'\n",
    "\n",
    "# load target dictionary and invert\n",
    "with open(options['dictionaries'][1], 'rb') as f:\n",
    "    word_dict_trg = pkl.load(f)\n",
    "word_idict_trg = dict()\n",
    "for kk, vv in word_dict_trg.iteritems():\n",
    "    word_idict_trg[vv] = kk\n",
    "word_idict_trg[0] = '<eos>'\n",
    "word_idict_trg[1] = 'UNK'"
   ]
  },
  {
   "cell_type": "code",
   "execution_count": 27,
   "metadata": {
    "collapsed": false
   },
   "outputs": [
    {
     "name": "stdout",
     "output_type": "stream",
     "text": [
      "Building model\n"
     ]
    }
   ],
   "source": [
    "theano.config.floatX='float32'\n",
    "\n",
    "print 'Building model'\n",
    "params = nmt.init_params(options)\n",
    "# reload parameters\n",
    "params = nmt.load_params(model, params)\n",
    "tparams = nmt.init_tparams(params)\n",
    "\n",
    "trng, use_noise, \\\n",
    "    x, x_mask, y, y_mask, xc, xc_mask, \\\n",
    "    opt_ret, \\\n",
    "    cost, xc_mask_2, xc_mask_3 = \\\n",
    "    nmt.build_model(tparams, options)\n",
    "inps = [x, x_mask, y, y_mask, xc, xc_mask, xc_mask_2, xc_mask_3]"
   ]
  },
  {
   "cell_type": "code",
   "execution_count": 28,
   "metadata": {
    "collapsed": false
   },
   "outputs": [
    {
     "name": "stdout",
     "output_type": "stream",
     "text": [
      "Building sampler\n",
      "Building f_init... Done\n",
      "Building f_next.. Done\n"
     ]
    }
   ],
   "source": [
    "print 'Building sampler'\n",
    "f_init, f_next = nmt.build_sampler(tparams, options, trng, use_noise)"
   ]
  },
  {
   "cell_type": "code",
   "execution_count": 29,
   "metadata": {
    "collapsed": false
   },
   "outputs": [
    {
     "name": "stdout",
     "output_type": "stream",
     "text": [
      "Building f_ctx_att... Done\n"
     ]
    }
   ],
   "source": [
    "print 'Building f_ctx_att...',\n",
    "f_ctx_att = theano.function(inps, opt_ret['ctx_alphas'], profile=False)\n",
    "print 'Done'"
   ]
  },
  {
   "cell_type": "code",
   "execution_count": 30,
   "metadata": {
    "collapsed": false
   },
   "outputs": [],
   "source": [
    "#words = line.strip().split()\n",
    "#context_words = gline.strip().split(' ||| ') # with |||\n",
    "\n",
    "words = 'And just as the bi@@ osphere has been sever@@ ely ero@@ ded , so too is the ethn@@ osphere -- and , if anything , at a far greater rate .'\n",
    "words = words.strip().split()\n",
    "\n",
    "context_words = 'Now , together the my@@ ri@@ ad cultures of the world make up a web of spiritual life and cultural life that envel@@ ops the planet , and is as important to the well-being of the planet as indeed is the biological web of life that you know as a bi@@ osphere . ||| And you might think of this cultural web of life as being an ethn@@ osphere , and you might define the ethn@@ osphere as being the sum total of all thoughts and dreams , my@@ ths , ideas , inspi@@ rations , intui@@ tions brought into being by the human imagination since the dawn of consciousness . ||| The ethn@@ osphere is humanity &apos;s great legacy . ||| It &apos;s the symbol of all that we are and all that we can be as an astoni@@ sh@@ ingly in@@ qui@@ si@@ tive species . ||| No biologists , for example , would d@@ are suggest that 50 percent of all species or more have been or are on the br@@ ink of extinction because it simply is not true , and yet that -- the most ap@@ oc@@ al@@ yp@@ tic scenario in the realm of biological diversity -- scar@@ ce@@ ly approaches what we know to be the most optimistic scenario in the realm of cultural diversity . ||| And the great indic@@ ator of that , of course , is language loss . ||| When each of you in this room were born , there were 6,000 languages spoken on the planet . ||| Now , a language is not just a body of voc@@ ab@@ ul@@ ary or a set of gra@@ m@@ ma@@ tical rules .'\n",
    "context_words = context_words.strip().split(' ||| ')\n",
    "\n",
    "\n",
    "x = map(lambda w: word_dict[w] if w in word_dict else 1, words)\n",
    "x = map(lambda ii: ii if ii < options['n_words_src'] else 1, x)\n",
    "x += [0]\n",
    "x = numpy.array(x).reshape([len(x), 1])\n",
    "\n",
    "num_sent = len(context_words)\n",
    "maxlen = max(len(sent) for sent in context_words) + 1\n",
    "xc = numpy.zeros((num_sent, 1, maxlen), dtype=numpy.int64)\n",
    "xc_mask = numpy.zeros((num_sent, 1, maxlen), dtype=numpy.float32)\n",
    "xc_mask_2 = numpy.zeros((num_sent, 1), dtype=numpy.float32)\n",
    "xc_mask_3 = numpy.zeros((num_sent, 1), dtype=numpy.float32)\n",
    "\n",
    "for ii, sent in enumerate(context_words):\n",
    "    sent = sent.strip().split()\n",
    "    tmp = map(lambda w: word_dict[w] if w in word_dict else 1, sent)\n",
    "    tmp = map(lambda ii: ii if ii < options['n_words_src'] else 1, tmp)\n",
    "    tmp += [0]\n",
    "    xc[ii,0,:len(tmp)] = tmp\n",
    "    xc_mask[ii,0,:len(tmp)] = 1.0\n",
    "    xc_mask_2[ii,0] = 1.0\n",
    "    xc_mask_3[ii,0] = float(len(tmp))"
   ]
  },
  {
   "cell_type": "code",
   "execution_count": 31,
   "metadata": {
    "collapsed": false
   },
   "outputs": [],
   "source": [
    "sample, score = nmt.gen_sample(tparams, f_init, f_next,\n",
    "                           x, xc, xc_mask, xc_mask_2, xc_mask_3,\n",
    "                           options, trng=trng, k=1, maxlen=200,\n",
    "                           stochastic=False, argmax=False)"
   ]
  },
  {
   "cell_type": "code",
   "execution_count": 32,
   "metadata": {
    "collapsed": false
   },
   "outputs": [],
   "source": [
    "y = numpy.array(sample[0]).reshape([len(sample[0]), 1])"
   ]
  },
  {
   "cell_type": "code",
   "execution_count": 33,
   "metadata": {
    "collapsed": false
   },
   "outputs": [],
   "source": [
    "ctx_att = f_ctx_att(x, numpy.float32(x*0.+1.), y, numpy.float32(y*0.+1.), xc, xc_mask, xc_mask_2, xc_mask_3)"
   ]
  },
  {
   "cell_type": "code",
   "execution_count": 34,
   "metadata": {
    "collapsed": false
   },
   "outputs": [
    {
     "name": "stdout",
     "output_type": "stream",
     "text": [
      "Et tout comme la bi@@ osphère a été sév@@ èrement éro@@ positive , aussi aussi , c&apos; est l&apos; ethni@@ osphère -- et , si quelque chose , à un taux bien plus grand . <eos>\n"
     ]
    }
   ],
   "source": [
    "trans = [word_idict_trg[t] for t in sample[0]]\n",
    "print ' '.join(trans)"
   ]
  },
  {
   "cell_type": "code",
   "execution_count": 35,
   "metadata": {
    "collapsed": false
   },
   "outputs": [],
   "source": [
    "ctx_att = ctx_att.reshape(ctx_att.shape[0], ctx_att.shape[2])"
   ]
  },
  {
   "cell_type": "code",
   "execution_count": 36,
   "metadata": {
    "collapsed": false
   },
   "outputs": [
    {
     "name": "stdout",
     "output_type": "stream",
     "text": [
      "[[ 0.12531212  0.12523271  0.12499771  0.12511538  0.12514547  0.12486754\n",
      "   0.12542093  0.1239082 ]\n",
      " [ 0.12531106  0.12523156  0.12499743  0.12511668  0.12514172  0.12487195\n",
      "   0.12541819  0.12391135]\n",
      " [ 0.12532325  0.12523501  0.12499639  0.12511928  0.12512918  0.12487633\n",
      "   0.12541507  0.12390553]\n",
      " [ 0.12531275  0.12522399  0.12500586  0.12511858  0.12514704  0.12485819\n",
      "   0.12541457  0.12391894]\n",
      " [ 0.12531124  0.12523231  0.12499608  0.12510929  0.12514047  0.12487021\n",
      "   0.12542485  0.12391561]\n",
      " [ 0.12531738  0.12523398  0.12498699  0.12511024  0.125144    0.12486845\n",
      "   0.12542981  0.12390918]\n",
      " [ 0.12531106  0.1252314   0.12499857  0.1251166   0.12514508  0.12486483\n",
      "   0.12542365  0.12390873]\n",
      " [ 0.12530532  0.12522614  0.12500775  0.12511346  0.12514186  0.12486653\n",
      "   0.1254209   0.12391802]\n",
      " [ 0.12530941  0.12523769  0.1249994   0.12510854  0.12515031  0.12485349\n",
      "   0.12543282  0.12390837]\n",
      " [ 0.12531456  0.12523213  0.1249951   0.12511158  0.12514111  0.12487276\n",
      "   0.12542357  0.12390921]\n",
      " [ 0.12531404  0.12523429  0.12499896  0.12511201  0.12514336  0.12486674\n",
      "   0.12542547  0.12390511]\n",
      " [ 0.12531158  0.12523182  0.1249967   0.12511656  0.12514085  0.12487289\n",
      "   0.12542264  0.12390693]\n",
      " [ 0.1253117   0.12523368  0.12499426  0.12511645  0.1251439   0.12486868\n",
      "   0.12542316  0.12390812]\n",
      " [ 0.12531136  0.12523158  0.12499227  0.12511452  0.12514418  0.12487151\n",
      "   0.12542208  0.12391258]\n",
      " [ 0.12530971  0.12523188  0.12500685  0.12510273  0.12514019  0.12487924\n",
      "   0.12541832  0.12391105]\n",
      " [ 0.12530997  0.12523197  0.12500595  0.12510386  0.12514178  0.12487745\n",
      "   0.12541904  0.12391002]\n",
      " [ 0.1253105   0.12522972  0.12499406  0.12511906  0.12514447  0.12487122\n",
      "   0.12541962  0.12391126]\n",
      " [ 0.12529646  0.12523386  0.12496936  0.12512682  0.12513725  0.1248878\n",
      "   0.12543346  0.12391496]\n",
      " [ 0.1253051   0.12522994  0.1250035   0.12510706  0.12514554  0.1248624\n",
      "   0.12543744  0.12390894]\n",
      " [ 0.12530972  0.12523499  0.12499347  0.12511761  0.1251407   0.12487074\n",
      "   0.12542079  0.12391196]\n",
      " [ 0.12530868  0.12522826  0.1250007   0.12511292  0.12514524  0.12487321\n",
      "   0.12541872  0.12391227]\n",
      " [ 0.12530902  0.12523085  0.12500016  0.1251165   0.12514465  0.12486593\n",
      "   0.12542692  0.12390592]\n",
      " [ 0.12530129  0.12523068  0.12500045  0.12511045  0.12514339  0.12487483\n",
      "   0.12542085  0.12391799]\n",
      " [ 0.12530889  0.12522928  0.12500472  0.12511046  0.12514283  0.12487144\n",
      "   0.12541281  0.12391963]\n",
      " [ 0.12530883  0.12523109  0.12499215  0.1251197   0.12514366  0.12487069\n",
      "   0.12542176  0.12391216]\n",
      " [ 0.1253033   0.12522309  0.12501751  0.12510955  0.12513256  0.12488715\n",
      "   0.12541081  0.12391602]\n",
      " [ 0.12530987  0.12521499  0.12500608  0.12510476  0.1251395   0.12484814\n",
      "   0.12541784  0.12395883]\n",
      " [ 0.125311    0.12523298  0.12499712  0.12511335  0.12514144  0.12487127\n",
      "   0.12542866  0.1239041 ]\n",
      " [ 0.12530833  0.12523071  0.12499549  0.12511958  0.12514243  0.12486999\n",
      "   0.12542035  0.12391318]\n",
      " [ 0.12531297  0.1252283   0.12500401  0.12510924  0.12513916  0.12485932\n",
      "   0.12541974  0.12392731]\n",
      " [ 0.12531133  0.12523112  0.12499917  0.12511702  0.12513921  0.12487038\n",
      "   0.12542319  0.12390845]\n",
      " [ 0.12530991  0.12523192  0.12500118  0.1251128   0.12514392  0.12486447\n",
      "   0.12542394  0.12391194]\n",
      " [ 0.1253074   0.12523246  0.12500055  0.12511693  0.12514398  0.12486345\n",
      "   0.12542666  0.12390863]\n",
      " [ 0.12530598  0.1252276   0.1250141   0.12510985  0.12514335  0.12487227\n",
      "   0.12541923  0.1239076 ]\n",
      " [ 0.12530906  0.12522908  0.12499778  0.12511553  0.12514333  0.12486482\n",
      "   0.12542889  0.12391151]\n",
      " [ 0.12531337  0.12522785  0.12498797  0.12511079  0.12514471  0.12486638\n",
      "   0.12541935  0.12392964]]\n"
     ]
    }
   ],
   "source": [
    "print ctx_att"
   ]
  },
  {
   "cell_type": "code",
   "execution_count": null,
   "metadata": {
    "collapsed": true
   },
   "outputs": [],
   "source": []
  }
 ],
 "metadata": {
  "kernelspec": {
   "display_name": "Python 2",
   "language": "python",
   "name": "python2"
  },
  "language_info": {
   "codemirror_mode": {
    "name": "ipython",
    "version": 2
   },
   "file_extension": ".py",
   "mimetype": "text/x-python",
   "name": "python",
   "nbconvert_exporter": "python",
   "pygments_lexer": "ipython2",
   "version": "2.7.6"
  }
 },
 "nbformat": 4,
 "nbformat_minor": 0
}
